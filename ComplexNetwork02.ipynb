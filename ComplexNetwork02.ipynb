{
  "nbformat": 4,
  "nbformat_minor": 0,
  "metadata": {
    "colab": {
      "name": "ComplexNetwork02.ipynb",
      "provenance": [],
      "collapsed_sections": [],
      "include_colab_link": true
    },
    "kernelspec": {
      "name": "python3",
      "display_name": "Python 3"
    }
  },
  "cells": [
    {
      "cell_type": "markdown",
      "metadata": {
        "id": "view-in-github",
        "colab_type": "text"
      },
      "source": [
        "<a href=\"https://colab.research.google.com/github/torix/Lecture-ComplexNetworks/blob/master/ComplexNetwork02.ipynb\" target=\"_parent\"><img src=\"https://colab.research.google.com/assets/colab-badge.svg\" alt=\"Open In Colab\"/></a>"
      ]
    },
    {
      "cell_type": "markdown",
      "metadata": {
        "id": "ggM0nxBp5l4-"
      },
      "source": [
        "# ネットワーク指標の計算"
      ]
    },
    {
      "cell_type": "markdown",
      "metadata": {
        "id": "V4r3IvEB9AD0"
      },
      "source": [
        "NetworkXを使って様々なネットワークの指標を計算します．\n",
        "\n",
        "NetworkXのドキュメントは，https://networkx.github.io/documentation/stable/index.html を参考．\n"
      ]
    },
    {
      "cell_type": "markdown",
      "metadata": {
        "id": "pCCdocdr88mA"
      },
      "source": [
        "# 0．準備"
      ]
    },
    {
      "cell_type": "markdown",
      "metadata": {
        "id": "wxiUy-NBFrQy"
      },
      "source": [
        "## 0.1. 日本語の表示"
      ]
    },
    {
      "cell_type": "markdown",
      "metadata": {
        "id": "TTLEeXfvA6vY"
      },
      "source": [
        "一番最初にGoogleColaboratory上で図に日本語を利用するためのおまじないを実行します．\n",
        "\n",
        "\n",
        "以下のコードを実行して，出力された値を次のコードに書いて実行します．<br>\n",
        "最初に一度だけ行ってください．"
      ]
    },
    {
      "cell_type": "code",
      "metadata": {
        "id": "Y-9wWiM-ArZA"
      },
      "source": [
        "!pip install japanize-matplotlib\n",
        "\n",
        "!apt-get -y install fonts-ipafont-gothic\n",
        "!rm -r /root/.cache/matplotlib"
      ],
      "execution_count": null,
      "outputs": []
    },
    {
      "cell_type": "markdown",
      "metadata": {
        "id": "kQWGufyiCRfG"
      },
      "source": [
        "ここまで実行後，一度ランタイムをリブートします．\n",
        "\n",
        "一度実行後は，ここまでのコードは実行する必要がありません．\n",
        "\n",
        "\n"
      ]
    },
    {
      "cell_type": "markdown",
      "metadata": {
        "id": "fIwl1jJOCeeG"
      },
      "source": [
        "## 0.1. NetworkXの準備"
      ]
    },
    {
      "cell_type": "markdown",
      "metadata": {
        "id": "Ec2XIOgo3v38"
      },
      "source": [
        "ネットワークのライブラリであるNetworkXと，描画用にmatplotlibの中のpyplotをインポートします．<br>\n",
        "%matplotlib inlineはjupyter内でグラフを表示するためのおまじないです．\n",
        "\n",
        "ついでに，ネットワーク読み込み用の関数もここで定義しておきます．\n",
        "\n",
        "\n",
        "\n"
      ]
    },
    {
      "cell_type": "code",
      "metadata": {
        "id": "AfbHKVoe04AJ"
      },
      "source": [
        "import matplotlib.pyplot as plt\n",
        "import japanize_matplotlib \n",
        "\n",
        "import networkx as nx\n",
        "from IPython.display import set_matplotlib_formats\n",
        "%matplotlib inline\n",
        "\n",
        "import requests\n",
        "from google.colab import files\n",
        "\n",
        "def readNetwork(url=None, splitter=\",\"):\n",
        "  # ネットワークを読み込む\n",
        "  if url == None:\n",
        "    uploaded = files.upload()\n",
        "    edge_text = list(uploaded.values())[0].decode()\n",
        "  else:\n",
        "    res = requests.get(url)\n",
        "    res.encoding = res.apparent_encoding\n",
        "    edge_text = res.text\n",
        "\n",
        "  # edgeとして読み込める形式に変換\n",
        "  edge_list = list(item.split(splitter) for item in edge_text.split(\"\\n\"))\n",
        "  edge_list = [a for a in edge_list if len(a) != 1]\n",
        "  # 無向グラフを作成\n",
        "  G = nx.Graph() \n",
        "\n",
        "  # ネットワークの作成\n",
        "  G.add_edges_from(edge_list)\n",
        "  return G\n",
        "\n",
        "def showNetwork(G, node_value=None):\n",
        "  #描画する\n",
        "  # 描画サイズ\n",
        "  plt.figure(figsize=(10,10))\n",
        "  # ノードをバネモデルで配置する\n",
        "  pos = nx.spring_layout(G, k=0.3, seed=0)\n",
        "  # ノード，エッジ，ラベルの描画\n",
        "  nx.draw_networkx_edges(G, pos, edge_color='red', width=1.5)\n",
        "  if node_value == None:\n",
        "    nx.draw_networkx_labels(G, pos)\n",
        "    nx.draw_networkx_nodes(G, pos, node_color='white', edgecolors=\"black\")\n",
        "  else:\n",
        "    nx.draw_networkx_labels(G, pos)\n",
        "    nx.draw_networkx_nodes(G, pos, node_color=list(node_value.values()), cmap=plt.cm.Reds, edgecolors=\"black\")\n",
        "  \n",
        "  # 描画\n",
        "  plt.show()\n",
        "\n",
        "\n",
        "G = readNetwork(\"http://syrinx.q.t.u-tokyo.ac.jp/tori/lecture/complexnetworks/karate.dat\")\n",
        "showNetwork(G)\n"
      ],
      "execution_count": null,
      "outputs": []
    },
    {
      "cell_type": "markdown",
      "metadata": {
        "id": "FEK4wWyo9prm"
      },
      "source": [
        "# 1. ネットワーク指標の計算"
      ]
    },
    {
      "cell_type": "markdown",
      "metadata": {
        "id": "zctdanbOOHg2"
      },
      "source": [
        "## 1.1. 次数\n",
        "### 1.1.1．平均次数\n",
        "\n",
        "各ノードが持つノードの次数の平均を平均次数と言います．\n",
        "\n",
        "おおよそどのくらいリンクがあるのかをみるための指標としてよく使われます．\n",
        "\n",
        "\n"
      ]
    },
    {
      "cell_type": "code",
      "metadata": {
        "id": "unPYRsHk4UHc"
      },
      "source": [
        "from statistics import mean, median,variance,stdev\n",
        "\n",
        "degree = G.degree #次数を取得\n",
        "d_ary = dict(degree).values() #次数のリスト\n",
        "print(mean(d_ary)) #平均\n",
        "print(median(d_ary)) #中央値\n",
        "print(variance(d_ary)) #分散\n",
        "print(stdev(d_ary)) #標準偏差\n",
        "print(max(d_ary)) #最大値\n",
        "print(min(d_ary)) #最小値\n",
        "\n",
        "\n"
      ],
      "execution_count": null,
      "outputs": []
    },
    {
      "cell_type": "markdown",
      "metadata": {
        "id": "oFdKzGcfRE3u"
      },
      "source": [
        "### 1.1.2 次数分布\n",
        "\n",
        "\n",
        "次数がどの程度のノードがどのくらい存在するのかを求めたものが次数分布です．\n",
        "\n",
        "\n",
        "\n",
        "\n",
        "\n",
        "\n",
        "\n"
      ]
    },
    {
      "cell_type": "code",
      "metadata": {
        "id": "sH86SXt_yCTC"
      },
      "source": [
        "import collections\n",
        "\n",
        "# 次数分布を取得\n",
        "degree = G.degree\n",
        "degree_distribution = collections.Counter(dict(degree).values()) # 次数を次数分布のヒストグラムに変換\n",
        "print(\"次数の分布\")\n",
        "print(sorted(degree_distribution.items(), key=lambda x:x[0]))\n",
        "\n",
        "\n",
        "# 次数分布をプロットする\n",
        "plt.plot(list(degree_distribution.keys()), list(degree_distribution.values()), 'bo') #次数分布をプロット\n",
        "\n",
        "# 両対数グラフをやめる場合は，この二つのコメントアウトをします．\n",
        "plt.xscale('log') \n",
        "plt.yscale('log')\n",
        "\n",
        "\n",
        "plt.show()"
      ],
      "execution_count": null,
      "outputs": []
    },
    {
      "cell_type": "markdown",
      "metadata": {
        "id": "4upEsTe3Ou5L"
      },
      "source": [
        "## 1.2. ネットワークの凝集性"
      ]
    },
    {
      "cell_type": "markdown",
      "metadata": {
        "id": "n3ooe1vpO2aT"
      },
      "source": [
        "### 1.2.1. リンク密度\n",
        "\n",
        "完全グラフ（すべてのノードがお互いに隣接している状態）を1としたときに，\n",
        "実際にリンクが張られている割合を示したものがリンク密度です．\n",
        "\n",
        "ネットワーク内のノードがどのくらい密につながり合っているかを示す指標です．\n",
        "大域的な凝集性を示します．\n",
        "\n",
        "### 1.2.2. クラスタ係数\n",
        "あるノードの隣接ノード同士が隣接している割合を示す係数です．\n",
        "局所的な凝集性を示します．\n",
        "\n",
        "\n"
      ]
    },
    {
      "cell_type": "code",
      "metadata": {
        "id": "Wt8aXgM6Ig4i"
      },
      "source": [
        "# ネットワーク密度\n",
        "print(nx.density(G))\n",
        "\n",
        "#クラスタ係数\n",
        "print(nx.average_clustering(G)) #クラスタ係数の平均\n",
        "clustering_coefficient = nx.clustering(G) \n",
        "print(dict(clustering_coefficient)) #ノードごとのクラスタ係数\n"
      ],
      "execution_count": null,
      "outputs": []
    },
    {
      "cell_type": "markdown",
      "metadata": {
        "id": "rGQLsuW-4A4p"
      },
      "source": [
        "## 1.2．ネットワークの大きさ\n",
        "\n",
        "ネットワークの大きさを示す指標として，\n",
        "\n",
        "*   平均経路長\n",
        "*   直径\n",
        "\n",
        "などがあります．\n",
        "\n",
        "\n"
      ]
    },
    {
      "cell_type": "code",
      "metadata": {
        "id": "eqJhtUwbKxdP"
      },
      "source": [
        "print(\"平均経路長\")\n",
        "print(nx.average_shortest_path_length(G)) #平均経路長\n",
        "print(\"直径\")\n",
        "print(nx.diameter(G)) #直径\n"
      ],
      "execution_count": null,
      "outputs": []
    },
    {
      "cell_type": "markdown",
      "metadata": {
        "id": "hTvbAngWPBnD"
      },
      "source": [
        "## 1.3. 次数相関\n",
        "\n",
        "次数相関は，隣接するノードの次数の相関を表します．\n",
        "\n",
        "次数相関がプラスの場合，次数が高いノードは次数が高いノードと，次数が低いノードは次数が低いノードとつながりがちであることを意味します．\n",
        "\n",
        "逆に次数相関がマイナスだと，次数が高いノードは低いノードと隣接する可能性が高いことを意味します．\n",
        "\n",
        "一般に自然界で作られるネットワークでは次数相関はマイナスとなり，人工的なネットワークでは次数相関がプラスになりやすいと言われています．\n"
      ]
    },
    {
      "cell_type": "code",
      "metadata": {
        "id": "xohofLfkC3iZ"
      },
      "source": [
        "print(\"次数相関\")\n",
        "nx.degree_assortativity_coefficient(G)"
      ],
      "execution_count": null,
      "outputs": []
    },
    {
      "cell_type": "markdown",
      "metadata": {
        "id": "5CLp5k5CPJJT"
      },
      "source": [
        "## 1.4. 中心性"
      ]
    },
    {
      "cell_type": "markdown",
      "metadata": {
        "id": "HM9ifxAlPMHD"
      },
      "source": [
        "### 1.4.1.次数中心性\n",
        "どの程度次数を持っているかによってノードの中心性を評価する指標です．\n",
        "\n",
        "次数の値そのものを利用します．\n",
        "\n",
        "ハブノードの中心性が高くなります．\n",
        "\n",
        "\n"
      ]
    },
    {
      "cell_type": "code",
      "metadata": {
        "id": "p3kRqqcQNCwj"
      },
      "source": [
        "# degre_centrality の計算\n",
        "pr = nx.pagerank(G)\n",
        "degree_centralities = nx.degree_centrality(G)\n",
        "\n",
        "showNetwork(G, degree_centralities)\n",
        "\n"
      ],
      "execution_count": null,
      "outputs": []
    },
    {
      "cell_type": "markdown",
      "metadata": {
        "id": "7zeOhYUAPOZT"
      },
      "source": [
        "### 1.4.2. 近接中心性\n",
        "\n",
        "他のノードへの距離が近いノードほど高い値を示す中心性指標です．\n",
        "ネットワークの中央にいるのか，周辺にいるのかが分かります．\n",
        "\n",
        "すべての他のノードからの距離の逆数によって算出します．\n"
      ]
    },
    {
      "cell_type": "code",
      "metadata": {
        "id": "_mdk0ICW-Tma"
      },
      "source": [
        "\n",
        "showNetwork(G, nx.closeness_centrality(G))\n",
        "\n",
        "\n"
      ],
      "execution_count": null,
      "outputs": []
    },
    {
      "cell_type": "markdown",
      "metadata": {
        "id": "xYwXVQ6NPR5z"
      },
      "source": [
        "### 1.4.3. 媒介中心性\n",
        "\n",
        "ネットワーク全体の接続性を確保するためにどのくらい重要なノードかを示す指標です．\n",
        "\n",
        "任意の二つのノードの最短経路上に存在する可能性が高ければ高いほど高い値を示します．\n",
        "\n"
      ]
    },
    {
      "cell_type": "code",
      "metadata": {
        "id": "ABNxgZfM-VBQ"
      },
      "source": [
        "showNetwork(G, nx.betweenness_centrality(G))\n",
        "\n",
        "# バーベルグラフによるBetweeness\n",
        "barbellG = readNetwork(\"http://syrinx.q.t.u-tokyo.ac.jp/tori/lecture/complexnetworks/barbell-graph.dat\")\n",
        "showNetwork(barbellG, nx.betweenness_centrality(barbellG))\n"
      ],
      "execution_count": null,
      "outputs": []
    },
    {
      "cell_type": "markdown",
      "metadata": {
        "id": "wbPosHwoPU2b"
      },
      "source": [
        "### 1.4.4. ページランク\n",
        "\n",
        "ページランクは，「リンクがより多く集まっているWEBページはより重要である」という考えに基づいて\n",
        "Googleの創設者の一人であるラリーペイジが開発した中心性手法です．\n",
        "\n",
        "\n"
      ]
    },
    {
      "cell_type": "code",
      "metadata": {
        "id": "YgCOBOJT-WSw"
      },
      "source": [
        "showNetwork(G, nx.pagerank(G))\n",
        "\n"
      ],
      "execution_count": null,
      "outputs": []
    }
  ]
}